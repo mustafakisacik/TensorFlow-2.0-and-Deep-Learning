{
  "nbformat": 4,
  "nbformat_minor": 0,
  "metadata": {
    "colab": {
      "name": "first_step.ipynb",
      "provenance": [],
      "authorship_tag": "ABX9TyOrFurw6Xc4qelGOcBtBOzB",
      "include_colab_link": true
    },
    "kernelspec": {
      "name": "python3",
      "display_name": "Python 3"
    }
  },
  "cells": [
    {
      "cell_type": "markdown",
      "metadata": {
        "id": "view-in-github",
        "colab_type": "text"
      },
      "source": [
        "<a href=\"https://colab.research.google.com/github/mustafakisacik/TensorFlow-2.0-and-Deep-Learning/blob/master/first_step.ipynb\" target=\"_parent\"><img src=\"https://colab.research.google.com/assets/colab-badge.svg\" alt=\"Open In Colab\"/></a>"
      ]
    },
    {
      "cell_type": "markdown",
      "metadata": {
        "id": "SeXB-toAg-R9"
      },
      "source": [
        ""
      ]
    },
    {
      "cell_type": "code",
      "metadata": {
        "id": "xirf1eidF8US",
        "colab": {
          "base_uri": "https://localhost:8080/"
        },
        "outputId": "b631a168-6adf-4105-fbe3-055d014f4e05"
      },
      "source": [
        "print(\"Hello World...\")"
      ],
      "execution_count": null,
      "outputs": [
        {
          "output_type": "stream",
          "text": [
            "Hello World...\n"
          ],
          "name": "stdout"
        }
      ]
    }
  ]
}